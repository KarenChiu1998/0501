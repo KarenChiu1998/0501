{
 "cells": [
  {
   "cell_type": "code",
   "execution_count": 25,
   "metadata": {},
   "outputs": [],
   "source": [
    "def add(arg1, arg2):\n",
    "    return (arg1+arg2)"
   ]
  },
  {
   "cell_type": "code",
   "execution_count": 26,
   "metadata": {},
   "outputs": [],
   "source": [
    "def minus(arg1, arg2):\n",
    "    return (arg1-arg2)"
   ]
  },
  {
   "cell_type": "code",
   "execution_count": 27,
   "metadata": {},
   "outputs": [],
   "source": [
    "def multiply(arg1, arg2):\n",
    "    return (arg1*arg2)"
   ]
  },
  {
   "cell_type": "code",
   "execution_count": 28,
   "metadata": {},
   "outputs": [],
   "source": [
    "def devide(arg1, arg2):\n",
    "    return (arg1/arg2)"
   ]
  },
  {
   "cell_type": "code",
   "execution_count": 30,
   "metadata": {},
   "outputs": [
    {
     "name": "stdout",
     "output_type": "stream",
     "text": [
      "請輸入第一個數字： 5\n",
      "請輸入符號： +\n",
      "請輸入第二個數字： 6\n",
      "答案是： 11\n"
     ]
    }
   ],
   "source": [
    "num1 = eval(input(\"請輸入第一個數字： \"))\n",
    "calculate = input(\"請輸入符號： \")\n",
    "num2 = eval(input(\"請輸入第二個數字： \"))\n",
    "\n",
    "if calculate == '+':\n",
    "    result = add(num1, num2)\n",
    "    print(\"答案是：\", result)\n",
    "elif calculate == \"-\":\n",
    "    result = minus(num1, num2)\n",
    "    print(\"答案是：\", result)\n",
    "elif calculate == \"*\":\n",
    "    result = multiply(num1, num2)\n",
    "    print(\"答案是：\", result)\n",
    "elif calculate == \"/\":\n",
    "    result = devide(num1, num2)\n",
    "    print(\"答案是：\", result)"
   ]
  },
  {
   "cell_type": "code",
   "execution_count": 31,
   "metadata": {},
   "outputs": [
    {
     "name": "stdout",
     "output_type": "stream",
     "text": [
      "請輸入第一個數字： 10\n",
      "請輸入符號： -\n",
      "請輸入第二個數字： 4\n",
      "答案是： 6\n"
     ]
    }
   ],
   "source": [
    "num1 = eval(input(\"請輸入第一個數字： \"))\n",
    "calculate = input(\"請輸入符號： \")\n",
    "num2 = eval(input(\"請輸入第二個數字： \"))\n",
    "\n",
    "if calculate == '+':\n",
    "    result = add(num1, num2)\n",
    "    print(\"答案是：\", result)\n",
    "elif calculate == \"-\":\n",
    "    result = minus(num1, num2)\n",
    "    print(\"答案是：\", result)\n",
    "elif calculate == \"*\":\n",
    "    result = multiply(num1, num2)\n",
    "    print(\"答案是：\", result)\n",
    "elif calculate == \"/\":\n",
    "    result = devide(num1, num2)\n",
    "    print(\"答案是：\", result)"
   ]
  },
  {
   "cell_type": "code",
   "execution_count": 32,
   "metadata": {},
   "outputs": [
    {
     "name": "stdout",
     "output_type": "stream",
     "text": [
      "請輸入第一個數字： 100\n",
      "請輸入符號： *\n",
      "請輸入第二個數字： 3\n",
      "答案是： 300\n"
     ]
    }
   ],
   "source": [
    "num1 = eval(input(\"請輸入第一個數字： \"))\n",
    "calculate = input(\"請輸入符號： \")\n",
    "num2 = eval(input(\"請輸入第二個數字： \"))\n",
    "\n",
    "if calculate == '+':\n",
    "    result = add(num1, num2)\n",
    "    print(\"答案是：\", result)\n",
    "elif calculate == \"-\":\n",
    "    result = minus(num1, num2)\n",
    "    print(\"答案是：\", result)\n",
    "elif calculate == \"*\":\n",
    "    result = multiply(num1, num2)\n",
    "    print(\"答案是：\", result)\n",
    "elif calculate == \"/\":\n",
    "    result = devide(num1, num2)\n",
    "    print(\"答案是：\", result)"
   ]
  },
  {
   "cell_type": "code",
   "execution_count": 33,
   "metadata": {},
   "outputs": [
    {
     "name": "stdout",
     "output_type": "stream",
     "text": [
      "請輸入第一個數字： 50\n",
      "請輸入符號： /\n",
      "請輸入第二個數字： 10\n",
      "答案是： 5.0\n"
     ]
    }
   ],
   "source": [
    "num1 = eval(input(\"請輸入第一個數字： \"))\n",
    "calculate = input(\"請輸入符號： \")\n",
    "num2 = eval(input(\"請輸入第二個數字： \"))\n",
    "\n",
    "if calculate == '+':\n",
    "    result = add(num1, num2)\n",
    "    print(\"答案是：\", result)\n",
    "elif calculate == \"-\":\n",
    "    result = minus(num1, num2)\n",
    "    print(\"答案是：\", result)\n",
    "elif calculate == \"*\":\n",
    "    result = multiply(num1, num2)\n",
    "    print(\"答案是：\", result)\n",
    "elif calculate == \"/\":\n",
    "    result = devide(num1, num2)\n",
    "    print(\"答案是：\", result)"
   ]
  },
  {
   "cell_type": "code",
   "execution_count": null,
   "metadata": {},
   "outputs": [],
   "source": []
  }
 ],
 "metadata": {
  "kernelspec": {
   "display_name": "Python 3",
   "language": "python",
   "name": "python3"
  },
  "language_info": {
   "codemirror_mode": {
    "name": "ipython",
    "version": 3
   },
   "file_extension": ".py",
   "mimetype": "text/x-python",
   "name": "python",
   "nbconvert_exporter": "python",
   "pygments_lexer": "ipython3",
   "version": "3.6.4"
  }
 },
 "nbformat": 4,
 "nbformat_minor": 2
}
